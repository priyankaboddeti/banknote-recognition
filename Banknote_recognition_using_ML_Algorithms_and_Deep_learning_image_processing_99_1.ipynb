{
 "cells": [
  {
   "cell_type": "markdown",
   "metadata": {
    "colab_type": "text",
    "id": "Q-G2xOmG-oqL"
   },
   "source": [
    "# Vision Based System for Banknote recognition using Deep Learning algorithm"
   ]
  },
  {
   "cell_type": "code",
   "execution_count": 1,
   "metadata": {
    "colab": {},
    "colab_type": "code",
    "id": "Q1nOrdkL-oqP"
   },
   "outputs": [
    {
     "name": "stderr",
     "output_type": "stream",
     "text": [
      "Using TensorFlow backend.\n",
      "c:\\users\\sai\\appdata\\local\\programs\\python\\python37\\lib\\site-packages\\tensorflow\\python\\framework\\dtypes.py:516: FutureWarning: Passing (type, 1) or '1type' as a synonym of type is deprecated; in a future version of numpy, it will be understood as (type, (1,)) / '(1,)type'.\n",
      "  _np_qint8 = np.dtype([(\"qint8\", np.int8, 1)])\n",
      "c:\\users\\sai\\appdata\\local\\programs\\python\\python37\\lib\\site-packages\\tensorflow\\python\\framework\\dtypes.py:517: FutureWarning: Passing (type, 1) or '1type' as a synonym of type is deprecated; in a future version of numpy, it will be understood as (type, (1,)) / '(1,)type'.\n",
      "  _np_quint8 = np.dtype([(\"quint8\", np.uint8, 1)])\n",
      "c:\\users\\sai\\appdata\\local\\programs\\python\\python37\\lib\\site-packages\\tensorflow\\python\\framework\\dtypes.py:518: FutureWarning: Passing (type, 1) or '1type' as a synonym of type is deprecated; in a future version of numpy, it will be understood as (type, (1,)) / '(1,)type'.\n",
      "  _np_qint16 = np.dtype([(\"qint16\", np.int16, 1)])\n",
      "c:\\users\\sai\\appdata\\local\\programs\\python\\python37\\lib\\site-packages\\tensorflow\\python\\framework\\dtypes.py:519: FutureWarning: Passing (type, 1) or '1type' as a synonym of type is deprecated; in a future version of numpy, it will be understood as (type, (1,)) / '(1,)type'.\n",
      "  _np_quint16 = np.dtype([(\"quint16\", np.uint16, 1)])\n",
      "c:\\users\\sai\\appdata\\local\\programs\\python\\python37\\lib\\site-packages\\tensorflow\\python\\framework\\dtypes.py:520: FutureWarning: Passing (type, 1) or '1type' as a synonym of type is deprecated; in a future version of numpy, it will be understood as (type, (1,)) / '(1,)type'.\n",
      "  _np_qint32 = np.dtype([(\"qint32\", np.int32, 1)])\n",
      "c:\\users\\sai\\appdata\\local\\programs\\python\\python37\\lib\\site-packages\\tensorflow\\python\\framework\\dtypes.py:525: FutureWarning: Passing (type, 1) or '1type' as a synonym of type is deprecated; in a future version of numpy, it will be understood as (type, (1,)) / '(1,)type'.\n",
      "  np_resource = np.dtype([(\"resource\", np.ubyte, 1)])\n",
      "c:\\users\\sai\\appdata\\local\\programs\\python\\python37\\lib\\site-packages\\tensorboard\\compat\\tensorflow_stub\\dtypes.py:541: FutureWarning: Passing (type, 1) or '1type' as a synonym of type is deprecated; in a future version of numpy, it will be understood as (type, (1,)) / '(1,)type'.\n",
      "  _np_qint8 = np.dtype([(\"qint8\", np.int8, 1)])\n",
      "c:\\users\\sai\\appdata\\local\\programs\\python\\python37\\lib\\site-packages\\tensorboard\\compat\\tensorflow_stub\\dtypes.py:542: FutureWarning: Passing (type, 1) or '1type' as a synonym of type is deprecated; in a future version of numpy, it will be understood as (type, (1,)) / '(1,)type'.\n",
      "  _np_quint8 = np.dtype([(\"quint8\", np.uint8, 1)])\n",
      "c:\\users\\sai\\appdata\\local\\programs\\python\\python37\\lib\\site-packages\\tensorboard\\compat\\tensorflow_stub\\dtypes.py:543: FutureWarning: Passing (type, 1) or '1type' as a synonym of type is deprecated; in a future version of numpy, it will be understood as (type, (1,)) / '(1,)type'.\n",
      "  _np_qint16 = np.dtype([(\"qint16\", np.int16, 1)])\n",
      "c:\\users\\sai\\appdata\\local\\programs\\python\\python37\\lib\\site-packages\\tensorboard\\compat\\tensorflow_stub\\dtypes.py:544: FutureWarning: Passing (type, 1) or '1type' as a synonym of type is deprecated; in a future version of numpy, it will be understood as (type, (1,)) / '(1,)type'.\n",
      "  _np_quint16 = np.dtype([(\"quint16\", np.uint16, 1)])\n",
      "c:\\users\\sai\\appdata\\local\\programs\\python\\python37\\lib\\site-packages\\tensorboard\\compat\\tensorflow_stub\\dtypes.py:545: FutureWarning: Passing (type, 1) or '1type' as a synonym of type is deprecated; in a future version of numpy, it will be understood as (type, (1,)) / '(1,)type'.\n",
      "  _np_qint32 = np.dtype([(\"qint32\", np.int32, 1)])\n",
      "c:\\users\\sai\\appdata\\local\\programs\\python\\python37\\lib\\site-packages\\tensorboard\\compat\\tensorflow_stub\\dtypes.py:550: FutureWarning: Passing (type, 1) or '1type' as a synonym of type is deprecated; in a future version of numpy, it will be understood as (type, (1,)) / '(1,)type'.\n",
      "  np_resource = np.dtype([(\"resource\", np.ubyte, 1)])\n"
     ]
    }
   ],
   "source": [
    "from keras.models import Sequential\n",
    "from keras.layers import Conv2D\n",
    "from keras.layers import MaxPooling2D\n",
    "from keras.layers import Flatten\n",
    "from keras.layers import Dense\n",
    "from keras.models import model_from_json\n",
    "import numpy\n",
    "import os"
   ]
  },
  {
   "cell_type": "code",
   "execution_count": 2,
   "metadata": {
    "colab": {},
    "colab_type": "code",
    "id": "fbknSqnO-oqS"
   },
   "outputs": [
    {
     "name": "stdout",
     "output_type": "stream",
     "text": [
      "WARNING:tensorflow:From c:\\users\\sai\\appdata\\local\\programs\\python\\python37\\lib\\site-packages\\keras\\backend\\tensorflow_backend.py:4070: The name tf.nn.max_pool is deprecated. Please use tf.nn.max_pool2d instead.\n",
      "\n"
     ]
    }
   ],
   "source": [
    "# Initialising the CNN\n",
    "classifier = Sequential()\n",
    "\n",
    "# Step 1 - Convolution\n",
    "classifier.add(Conv2D(32, (25,25), input_shape = (100, 100, 3), activation = 'relu'))\n",
    "\n",
    "# Step 2 - Pooling\n",
    "classifier.add(MaxPooling2D(pool_size = (2, 2)))\n",
    "\n",
    "# Adding a second convolutional layer\n",
    "classifier.add(Conv2D(32, (25, 25), activation = 'relu'))\n",
    "classifier.add(MaxPooling2D(pool_size = (2, 2)))\n",
    "\n",
    "# Step 3 - Flattening\n",
    "classifier.add(Flatten())\n",
    "\n",
    "# Step 4 - Full connection\n",
    "classifier.add(Dense(units = 128, activation = 'relu'))\n",
    "classifier.add(Dense(units = 6, activation = 'softmax')) # 7 units equals amount of output categories\n",
    "\n",
    "# Compiling the CNN\n",
    "classifier.compile(optimizer = 'adam', loss = 'categorical_crossentropy', metrics = ['accuracy'])"
   ]
  },
  {
   "cell_type": "code",
   "execution_count": 3,
   "metadata": {
    "colab": {
     "base_uri": "https://localhost:8080/",
     "height": 34
    },
    "colab_type": "code",
    "id": "9kMJqQyq-oqU",
    "outputId": "a7d1925d-408a-4367-f5b0-f5c52ed31f38"
   },
   "outputs": [],
   "source": [
    "# os.chdir('/content/drive/My Drive/Banknote Code')\n",
    "# os.getcwd()"
   ]
  },
  {
   "cell_type": "code",
   "execution_count": 8,
   "metadata": {
    "colab": {
     "base_uri": "https://localhost:8080/",
     "height": 1000
    },
    "colab_type": "code",
    "id": "6BmPBxR7-oqW",
    "outputId": "ff649869-fa1c-4649-d5c2-840402d9c784",
    "scrolled": true
   },
   "outputs": [
    {
     "name": "stdout",
     "output_type": "stream",
     "text": [
      "Found 208 images belonging to 6 classes.\n",
      "Found 142 images belonging to 6 classes.\n",
      "WARNING:tensorflow:From /usr/local/lib/python3.6/dist-packages/tensorflow_core/python/ops/math_grad.py:1424: where (from tensorflow.python.ops.array_ops) is deprecated and will be removed in a future version.\n",
      "Instructions for updating:\n",
      "Use tf.where in 2.0, which has the same broadcast rule as np.where\n",
      "WARNING:tensorflow:From /usr/local/lib/python3.6/dist-packages/keras/backend/tensorflow_backend.py:1033: The name tf.assign_add is deprecated. Please use tf.compat.v1.assign_add instead.\n",
      "\n",
      "WARNING:tensorflow:From /usr/local/lib/python3.6/dist-packages/keras/backend/tensorflow_backend.py:1020: The name tf.assign is deprecated. Please use tf.compat.v1.assign instead.\n",
      "\n",
      "WARNING:tensorflow:From /usr/local/lib/python3.6/dist-packages/keras/backend/tensorflow_backend.py:3005: The name tf.Session is deprecated. Please use tf.compat.v1.Session instead.\n",
      "\n",
      "Epoch 1/30\n",
      "WARNING:tensorflow:From /usr/local/lib/python3.6/dist-packages/keras/backend/tensorflow_backend.py:190: The name tf.get_default_session is deprecated. Please use tf.compat.v1.get_default_session instead.\n",
      "\n",
      "WARNING:tensorflow:From /usr/local/lib/python3.6/dist-packages/keras/backend/tensorflow_backend.py:197: The name tf.ConfigProto is deprecated. Please use tf.compat.v1.ConfigProto instead.\n",
      "\n",
      "WARNING:tensorflow:From /usr/local/lib/python3.6/dist-packages/keras/backend/tensorflow_backend.py:207: The name tf.global_variables is deprecated. Please use tf.compat.v1.global_variables instead.\n",
      "\n",
      "WARNING:tensorflow:From /usr/local/lib/python3.6/dist-packages/keras/backend/tensorflow_backend.py:216: The name tf.is_variable_initialized is deprecated. Please use tf.compat.v1.is_variable_initialized instead.\n",
      "\n",
      "WARNING:tensorflow:From /usr/local/lib/python3.6/dist-packages/keras/backend/tensorflow_backend.py:223: The name tf.variables_initializer is deprecated. Please use tf.compat.v1.variables_initializer instead.\n",
      "\n",
      "160/160 [==============================] - 705s 4s/step - loss: 1.7266 - acc: 0.2527 - val_loss: 1.9577 - val_acc: 0.2604\n",
      "Epoch 2/30\n",
      "160/160 [==============================] - 638s 4s/step - loss: 1.3457 - acc: 0.4531 - val_loss: 1.4869 - val_acc: 0.4744\n",
      "Epoch 3/30\n",
      "160/160 [==============================] - 642s 4s/step - loss: 1.2510 - acc: 0.5061 - val_loss: 1.6239 - val_acc: 0.3750\n",
      "Epoch 4/30\n",
      "160/160 [==============================] - 655s 4s/step - loss: 1.1290 - acc: 0.5672 - val_loss: 1.9603 - val_acc: 0.4231\n",
      "Epoch 5/30\n",
      "160/160 [==============================] - 645s 4s/step - loss: 0.9596 - acc: 0.6373 - val_loss: 1.6090 - val_acc: 0.4615\n",
      "Epoch 6/30\n",
      "160/160 [==============================] - 654s 4s/step - loss: 0.9008 - acc: 0.6631 - val_loss: 1.8767 - val_acc: 0.4271\n",
      "Epoch 7/30\n",
      "160/160 [==============================] - 655s 4s/step - loss: 0.6635 - acc: 0.7432 - val_loss: 1.5990 - val_acc: 0.6410\n",
      "Epoch 8/30\n",
      "160/160 [==============================] - 657s 4s/step - loss: 0.5660 - acc: 0.7896 - val_loss: 2.8170 - val_acc: 0.6354\n",
      "Epoch 9/30\n",
      "160/160 [==============================] - 655s 4s/step - loss: 0.5087 - acc: 0.8065 - val_loss: 3.4959 - val_acc: 0.6026\n",
      "Epoch 10/30\n",
      "160/160 [==============================] - 657s 4s/step - loss: 0.4074 - acc: 0.8531 - val_loss: 2.0221 - val_acc: 0.7179\n",
      "Epoch 11/30\n",
      "160/160 [==============================] - 661s 4s/step - loss: 0.2888 - acc: 0.8926 - val_loss: 2.3773 - val_acc: 0.6875\n",
      "Epoch 12/30\n",
      "160/160 [==============================] - 655s 4s/step - loss: 0.3288 - acc: 0.8812 - val_loss: 3.9156 - val_acc: 0.5641\n",
      "Epoch 13/30\n",
      "160/160 [==============================] - 650s 4s/step - loss: 0.3159 - acc: 0.8936 - val_loss: 3.6431 - val_acc: 0.6250\n",
      "Epoch 14/30\n",
      "160/160 [==============================] - 653s 4s/step - loss: 0.2152 - acc: 0.9238 - val_loss: 2.7932 - val_acc: 0.7179\n",
      "Epoch 15/30\n",
      "160/160 [==============================] - 655s 4s/step - loss: 0.1643 - acc: 0.9457 - val_loss: 3.9813 - val_acc: 0.6026\n",
      "Epoch 16/30\n",
      "160/160 [==============================] - 656s 4s/step - loss: 0.1405 - acc: 0.9475 - val_loss: 3.6612 - val_acc: 0.6875\n",
      "Epoch 17/30\n",
      "160/160 [==============================] - 654s 4s/step - loss: 0.1122 - acc: 0.9607 - val_loss: 3.2274 - val_acc: 0.6923\n",
      "Epoch 18/30\n",
      "160/160 [==============================] - 656s 4s/step - loss: 0.1137 - acc: 0.9633 - val_loss: 3.4038 - val_acc: 0.7083\n",
      "Epoch 19/30\n",
      "160/160 [==============================] - 653s 4s/step - loss: 0.1520 - acc: 0.9500 - val_loss: 3.6220 - val_acc: 0.6667\n",
      "Epoch 20/30\n",
      "160/160 [==============================] - 649s 4s/step - loss: 0.0816 - acc: 0.9725 - val_loss: 3.9876 - val_acc: 0.6538\n",
      "Epoch 21/30\n",
      "160/160 [==============================] - 649s 4s/step - loss: 0.1432 - acc: 0.9510 - val_loss: 3.3586 - val_acc: 0.6667\n",
      "Epoch 22/30\n",
      "160/160 [==============================] - 652s 4s/step - loss: 0.0745 - acc: 0.9758 - val_loss: 3.9788 - val_acc: 0.6538\n",
      "Epoch 23/30\n",
      "160/160 [==============================] - 659s 4s/step - loss: 0.0540 - acc: 0.9826 - val_loss: 3.7788 - val_acc: 0.6875\n",
      "Epoch 24/30\n",
      "160/160 [==============================] - 655s 4s/step - loss: 0.0468 - acc: 0.9854 - val_loss: 3.6758 - val_acc: 0.7179\n",
      "Epoch 25/30\n",
      "160/160 [==============================] - 658s 4s/step - loss: 0.1787 - acc: 0.9428 - val_loss: 4.2022 - val_acc: 0.6154\n",
      "Epoch 26/30\n",
      "160/160 [==============================] - 658s 4s/step - loss: 0.1210 - acc: 0.9590 - val_loss: 4.0100 - val_acc: 0.6979\n",
      "Epoch 27/30\n",
      "160/160 [==============================] - 657s 4s/step - loss: 0.0709 - acc: 0.9773 - val_loss: 3.9875 - val_acc: 0.6795\n",
      "Epoch 28/30\n",
      "160/160 [==============================] - 649s 4s/step - loss: 0.0322 - acc: 0.9908 - val_loss: 3.9492 - val_acc: 0.6771\n",
      "Epoch 29/30\n",
      "160/160 [==============================] - 655s 4s/step - loss: 0.0324 - acc: 0.9881 - val_loss: 3.6513 - val_acc: 0.6795\n",
      "Epoch 30/30\n",
      "160/160 [==============================] - 653s 4s/step - loss: 0.0251 - acc: 0.9918 - val_loss: 4.4322 - val_acc: 0.6667\n",
      "Model: \"sequential_2\"\n",
      "_________________________________________________________________\n",
      "Layer (type)                 Output Shape              Param #   \n",
      "=================================================================\n",
      "conv2d_3 (Conv2D)            (None, 76, 76, 32)        60032     \n",
      "_________________________________________________________________\n",
      "max_pooling2d_3 (MaxPooling2 (None, 38, 38, 32)        0         \n",
      "_________________________________________________________________\n",
      "conv2d_4 (Conv2D)            (None, 14, 14, 32)        640032    \n",
      "_________________________________________________________________\n",
      "max_pooling2d_4 (MaxPooling2 (None, 7, 7, 32)          0         \n",
      "_________________________________________________________________\n",
      "flatten_2 (Flatten)          (None, 1568)              0         \n",
      "_________________________________________________________________\n",
      "dense_3 (Dense)              (None, 128)               200832    \n",
      "_________________________________________________________________\n",
      "dense_4 (Dense)              (None, 6)                 774       \n",
      "=================================================================\n",
      "Total params: 901,670\n",
      "Trainable params: 901,670\n",
      "Non-trainable params: 0\n",
      "_________________________________________________________________\n"
     ]
    }
   ],
   "source": [
    "# Part 2 - Fitting the CNN to the images\n",
    "from keras.preprocessing.image import ImageDataGenerator\n",
    "train_datagen = ImageDataGenerator(rescale = 1./255,\n",
    "    shear_range = 0.2,\n",
    "    zoom_range = 0.2,\n",
    "    horizontal_flip = True)\n",
    "test_datagen = ImageDataGenerator(rescale = 1./255)\n",
    "training_set = train_datagen.flow_from_directory('/content/drive/My Drive/Banknote Code/dataset',\n",
    "    target_size = (100, 100),\n",
    "    batch_size = 32,\n",
    "    class_mode = 'categorical')\n",
    "test_set = test_datagen.flow_from_directory('/content/drive/My Drive/Banknote Code/Images',\n",
    "    target_size = (100, 100),\n",
    "    batch_size = 32,\n",
    "    class_mode = 'categorical')\n",
    "classifier.fit_generator(training_set,\n",
    "    steps_per_epoch = 160,#168\n",
    "    epochs =30 ,#100\n",
    "    validation_data = test_set,\n",
    "    validation_steps = 3)\n",
    "classifier.summary()"
   ]
  },
  {
   "cell_type": "code",
   "execution_count": 4,
   "metadata": {
    "colab": {
     "base_uri": "https://localhost:8080/",
     "height": 88
    },
    "colab_type": "code",
    "id": "cAfHRUnj3tG9",
    "outputId": "ed564ad6-d155-4a31-c178-96de3a3e656b"
   },
   "outputs": [
    {
     "name": "stderr",
     "output_type": "stream",
     "text": [
      "c:\\users\\sai\\appdata\\local\\programs\\python\\python37\\lib\\site-packages\\sklearn\\externals\\joblib\\__init__.py:15: FutureWarning: sklearn.externals.joblib is deprecated in 0.21 and will be removed in 0.23. Please import this functionality directly from joblib, which can be installed with: pip install joblib. If this warning is raised when loading pickled models, you may need to re-serialize those models with scikit-learn 0.21+.\n",
      "  warnings.warn(msg, category=FutureWarning)\n"
     ]
    }
   ],
   "source": [
    "# serialize weights to pkl\n",
    "from sklearn.externals import joblib \n",
    "#joblib.dump(classifier, 'currency99_1.pkl')"
   ]
  },
  {
   "cell_type": "markdown",
   "metadata": {
    "colab_type": "text",
    "id": "peqvh5z2B3yu"
   },
   "source": [
    "# Saving and loading the file"
   ]
  },
  {
   "cell_type": "code",
   "execution_count": 5,
   "metadata": {
    "colab": {
     "base_uri": "https://localhost:8080/",
     "height": 34
    },
    "colab_type": "code",
    "id": "Swg_08te-oqY",
    "outputId": "efffbe2f-90a7-4241-91c3-a0f16d386eca"
   },
   "outputs": [
    {
     "name": "stdout",
     "output_type": "stream",
     "text": [
      "WARNING:tensorflow:From c:\\users\\sai\\appdata\\local\\programs\\python\\python37\\lib\\site-packages\\keras\\backend\\tensorflow_backend.py:422: The name tf.global_variables is deprecated. Please use tf.compat.v1.global_variables instead.\n",
      "\n"
     ]
    }
   ],
   "source": [
    "# serialize weights to HDF5\n",
    "\n",
    "# To load saved model\n",
    "from sklearn.externals import joblib\n",
    "cnn = joblib.load('currency99_1.pkl') "
   ]
  },
  {
   "cell_type": "code",
   "execution_count": 7,
   "metadata": {
    "colab": {
     "base_uri": "https://localhost:8080/",
     "height": 117
    },
    "colab_type": "code",
    "id": "-iBiEERQ-oqc",
    "outputId": "6f335923-1b89-4ca7-b501-0d0a1ba3e58b"
   },
   "outputs": [
    {
     "data": {
      "image/png": "[encoded data removed]",
      "text/plain": [
       "<PIL.Image.Image image mode=RGB size=100x100 at 0x14610A26FC8>"
      ]
     },
     "execution_count": 7,
     "metadata": {},
     "output_type": "execute_result"
    }
   ],
   "source": [
    "# Part 3 - Making new predictions\n",
    "import numpy as np\n",
    "from keras.preprocessing import image\n",
    "\n",
    "'''path = 'C:/Users/user 5/Desktop/Banknote/test/2000.jpeg' # Folder with my images\n",
    "for filename in os.listdir(path):\n",
    "  if \"jpg\" in filename:\n",
    "    test_image = image.load_img(path + filename, target_size = (100, 100))\n",
    "    test_image = image.img_to_array(test_image)\n",
    "    test_image = np.expand_dims(test_image, axis = 0)\n",
    "    result = classifier.predict(test_image)\n",
    "    print(result)'''\n",
    "import numpy as np\n",
    "from keras.preprocessing import image\n",
    "test_images = image.load_img('C:/Users/Sai/Desktop/projects/Vision Based System for Banknote Recognition Using Different Machine Learning and Deep Learning Approach/Banknote Code/test/14.jpg', target_size = (100,100,3))\n",
    "test_images"
   ]
  },
  {
   "cell_type": "code",
   "execution_count": 8,
   "metadata": {
    "colab": {
     "base_uri": "https://localhost:8080/",
     "height": 34
    },
    "colab_type": "code",
    "id": "tHR2ZHqW-oqd",
    "outputId": "2166d6b7-a84c-404b-95ac-2df1f74bce63"
   },
   "outputs": [
    {
     "name": "stdout",
     "output_type": "stream",
     "text": [
      "[[1. 0. 0. 0. 0. 0.]]\n"
     ]
    }
   ],
   "source": [
    "test_image = image.img_to_array(test_images)\n",
    "test_image = np.expand_dims(test_image, axis = 0)\n",
    "result = cnn.predict(test_image)\n",
    "print(result)"
   ]
  },
  {
   "cell_type": "code",
   "execution_count": 9,
   "metadata": {
    "colab": {
     "base_uri": "https://localhost:8080/",
     "height": 119
    },
    "colab_type": "code",
    "id": "H8ssOeeN-oqf",
    "outputId": "e8a5cca8-ab2c-4907-b38a-6a8c21b71edb",
    "scrolled": true
   },
   "outputs": [],
   "source": [
    "# training_set.class_indices"
   ]
  },
  {
   "cell_type": "code",
   "execution_count": 10,
   "metadata": {
    "colab": {
     "base_uri": "https://localhost:8080/",
     "height": 34
    },
    "colab_type": "code",
    "id": "JOQu33TQ-oqh",
    "outputId": "406bd5d5-8af1-4b69-d3b9-c5fa468f835e"
   },
   "outputs": [],
   "source": [
    "# folder = list(training_set.class_indices.keys())[(result[0].argmax())] # Get the index of the highest predicted value\n",
    "# folder"
   ]
  },
  {
   "cell_type": "code",
   "execution_count": 19,
   "metadata": {
    "colab": {
     "base_uri": "https://localhost:8080/",
     "height": 134
    },
    "colab_type": "code",
    "id": "ESMgzjhh-oqk",
    "outputId": "e5dc05e8-8e90-417d-c1df-0dcf30b52cab"
   },
   "outputs": [
    {
     "name": "stdout",
     "output_type": "stream",
     "text": [
      "Currency note is ten \n"
     ]
    },
    {
     "data": {
      "image/png": "[encoded data removed]",
      "text/plain": [
       "<PIL.Image.Image image mode=RGB size=100x100 at 0x1602C218C88>"
      ]
     },
     "execution_count": 19,
     "metadata": {},
     "output_type": "execute_result"
    }
   ],
   "source": [
    "if(result[0][0] == 1):\n",
    "    print('Currency note is Fifty ')\n",
    "elif (result[0][1] == 1):\n",
    "    print('Currency note is Five hundred ')\n",
    "elif (result[0][2] == 1):\n",
    "    print('Currency note is hundred ')\n",
    "elif (result[0][3] == 1):\n",
    "    print('Currency note is ten ')\n",
    "elif (result[0][4] == 1):\n",
    "    print('Currency note is Twenty ')\n",
    "elif (result[0][5] == 1):\n",
    "    print('Currency note is Two Thousand ')   \n",
    "# elif( result[0][6] == 1):\n",
    "#     print('Currency note is  ')\n",
    "else:\n",
    "    print('Invalid currency ')\n",
    "test_images"
   ]
  },
  {
   "cell_type": "code",
   "execution_count": null,
   "metadata": {
    "colab": {},
    "colab_type": "code",
    "id": "YYMY_iei-oqm"
   },
   "outputs": [],
   "source": []
  },
  {
   "cell_type": "code",
   "execution_count": 0,
   "metadata": {
    "colab": {},
    "colab_type": "code",
    "id": "B5EITMUE-oqn"
   },
   "outputs": [],
   "source": []
  },
  {
   "cell_type": "code",
   "execution_count": 0,
   "metadata": {
    "colab": {},
    "colab_type": "code",
    "id": "nKua8-Gn-oqp"
   },
   "outputs": [],
   "source": []
  }
 ],
 "metadata": {
  "accelerator": "TPU",
  "colab": {
   "collapsed_sections": [],
   "name": "Banknote recognition using ML Algorithms and Deep learning image processing.ipynb",
   "provenance": []
  },
  "kernelspec": {
   "display_name": "Python 3",
   "language": "python",
   "name": "python3"
  },
  "language_info": {
   "codemirror_mode": {
    "name": "ipython",
    "version": 3
   },
   "file_extension": ".py",
   "mimetype": "text/x-python",
   "name": "python",
   "nbconvert_exporter": "python",
   "pygments_lexer": "ipython3",
   "version": "3.7.4"
  }
 },
 "nbformat": 4,
 "nbformat_minor": 1
}
